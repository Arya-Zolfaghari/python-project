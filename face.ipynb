{
 "cells": [
  {
   "metadata": {
    "ExecuteTime": {
     "end_time": "2025-02-12T19:37:11.815323Z",
     "start_time": "2025-02-12T19:37:10.895706Z"
    }
   },
   "cell_type": "code",
   "source": [
    "from matplotlib import pyplot as plt\n",
    "import cv2"
   ],
   "id": "e706b8359ea319ac",
   "outputs": [],
   "execution_count": 1
  },
  {
   "metadata": {
    "ExecuteTime": {
     "end_time": "2025-02-12T19:37:25.631268Z",
     "start_time": "2025-02-12T19:37:23.936472Z"
    }
   },
   "cell_type": "code",
   "source": [
    "image = cv2.imread(\"zandevakili2.jpg\")\n",
    "model = cv2.CascadeClassifier(\"model.xml\")\n",
    "\n",
    "face = model.detectMultiScale(image)\n",
    "\n",
    "\n",
    "    \n",
    "\n",
    "\n",
    "\n",
    "\n"
   ],
   "id": "87d0e95bf0db1eac",
   "outputs": [],
   "execution_count": 2
  },
  {
   "metadata": {
    "ExecuteTime": {
     "end_time": "2025-02-12T19:39:45.810310Z",
     "start_time": "2025-02-12T19:39:45.800733Z"
    }
   },
   "cell_type": "code",
   "source": [
    "try :\n",
    "    x = face[0][0]\n",
    "    y = face[0][1]\n",
    "    a = face[0][2]\n",
    "    b = face[0][3]\n",
    "    \n",
    "    m = face[1][0]\n",
    "    n = face[1][1]\n",
    "    t = face[1][2]\n",
    "    r = face[1][3]\n",
    "    image = cv2.rectangle(image , (x,y) , (x+a,y+b) , (0,255,0) , 4)\n",
    "    image = cv2.rectangle(image , (m,n) , (m+t,n+r) , (255,0,0) , 4)\n",
    "except :\n",
    "    x = face[0][0]\n",
    "    y = face[0][1]\n",
    "    a = face[0][2]\n",
    "    b = face[0][3]\n",
    "    image = cv2.rectangle(image , (x,y) , (x+a,y+b) , (0,255,0) , 4)"
   ],
   "id": "13086b793c120aac",
   "outputs": [],
   "execution_count": 3
  },
  {
   "metadata": {
    "ExecuteTime": {
     "end_time": "2025-02-12T19:39:49.136192Z",
     "start_time": "2025-02-12T19:39:49.128049Z"
    }
   },
   "cell_type": "code",
   "source": "image = cv2.cvtColor(image , cv2.COLOR_BGR2RGB)\n",
   "id": "75551e6699a2cb9b",
   "outputs": [],
   "execution_count": 4
  },
  {
   "metadata": {},
   "cell_type": "code",
   "outputs": [],
   "execution_count": null,
   "source": "plt.imshow(image)\n",
   "id": "81d1e096a0bc0930"
  }
 ],
 "metadata": {
  "kernelspec": {
   "display_name": "Python 3",
   "language": "python",
   "name": "python3"
  },
  "language_info": {
   "codemirror_mode": {
    "name": "ipython",
    "version": 2
   },
   "file_extension": ".py",
   "mimetype": "text/x-python",
   "name": "python",
   "nbconvert_exporter": "python",
   "pygments_lexer": "ipython2",
   "version": "2.7.6"
  }
 },
 "nbformat": 4,
 "nbformat_minor": 5
}
