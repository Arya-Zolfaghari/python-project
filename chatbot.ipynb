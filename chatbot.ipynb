{
 "cells": [
  {
   "cell_type": "code",
   "id": "initial_id",
   "metadata": {
    "collapsed": true,
    "ExecuteTime": {
     "end_time": "2025-04-17T16:09:07.022891Z",
     "start_time": "2025-04-17T16:08:56.562486Z"
    }
   },
   "source": [
    "import requests as req\n",
    "\n",
    "text = input(\"ask any thing : \\n\")\n",
    "out = req.get(\"http://5.161.91.18/chat?text=\"+text)\n",
    "\n",
    "print(out.json())"
   ],
   "outputs": [
    {
     "name": "stdout",
     "output_type": "stream",
     "text": [
      "I'm here to answer all of your questions"
     ]
    }
   ],
   "execution_count": 3
  },
  {
   "metadata": {},
   "cell_type": "code",
   "outputs": [],
   "execution_count": null,
   "source": "",
   "id": "341a4d3cb0548388"
  }
 ]
}

