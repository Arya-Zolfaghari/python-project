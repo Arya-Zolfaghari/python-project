{
 "cells": [
  {
   "cell_type": "code",
   "id": "initial_id",
   "metadata": {
    "collapsed": true,
    "ExecuteTime": {
     "end_time": "2025-02-09T07:39:05.321198Z",
     "start_time": "2025-02-09T07:38:37.473365Z"
    }
   },
   "source": [
    "import requests as req\n",
    "\n",
    "text = input(\"ask any thing : \\n\")\n",
    "out = req.get(\"http://5.161.91.18/chat?text=\"+text)\n",
    "\n",
    "print(out.json())"
   ],
   "outputs": [
    {
     "name": "stdout",
     "output_type": "stream",
     "text": [
      "سلام، من ربات آیولرن هستم، در حال حاضر زمان استفاده از این ربات به پایان رسیده چند ساعت دیگر دوباره تلاش کنید.\n"
     ]
    }
   ],
   "execution_count": 8
  },
  {
   "metadata": {},
   "cell_type": "code",
   "outputs": [],
   "execution_count": null,
   "source": "",
   "id": "341a4d3cb0548388"
  }
 ],
 "metadata": {
  "kernelspec": {
   "display_name": "Python 3",
   "language": "python",
   "name": "python3"
  },
  "language_info": {
   "codemirror_mode": {
    "name": "ipython",
    "version": 2
   },
   "file_extension": ".py",
   "mimetype": "text/x-python",
   "name": "python",
   "nbconvert_exporter": "python",
   "pygments_lexer": "ipython2",
   "version": "2.7.6"
  }
 },
 "nbformat": 4,
 "nbformat_minor": 5
}
